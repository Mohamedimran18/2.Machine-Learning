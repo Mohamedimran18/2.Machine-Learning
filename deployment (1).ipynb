{
 "cells": [
  {
   "cell_type": "code",
   "execution_count": 1,
   "id": "730338a2-5395-4b23-817d-1fc17acbb32d",
   "metadata": {},
   "outputs": [],
   "source": [
    "import pickle"
   ]
  },
  {
   "cell_type": "code",
   "execution_count": 3,
   "id": "7caf61cf-791a-4b81-a2c3-335d7d0b7cb9",
   "metadata": {},
   "outputs": [
    {
     "name": "stderr",
     "output_type": "stream",
     "text": [
      "C:\\Users\\moham\\anaconda3\\Lib\\site-packages\\sklearn\\base.py:493: UserWarning: X does not have valid feature names, but LinearRegression was fitted with feature names\n",
      "  warnings.warn(\n"
     ]
    }
   ],
   "source": [
    "loaded_model=pickle.load(open(\"finalized_model_linear.sav\",'rb'))\n",
    "result=loaded_model.predict([[13]])"
   ]
  },
  {
   "cell_type": "code",
   "execution_count": 5,
   "id": "163a1346-43f5-4858-b4ae-16e0efe5146e",
   "metadata": {},
   "outputs": [
    {
     "data": {
      "text/plain": [
       "array([[148460.78806172]])"
      ]
     },
     "execution_count": 5,
     "metadata": {},
     "output_type": "execute_result"
    }
   ],
   "source": [
    "result"
   ]
  },
  {
   "cell_type": "code",
   "execution_count": null,
   "id": "0c9b76d8-ec79-4072-8322-080748667af9",
   "metadata": {},
   "outputs": [],
   "source": []
  }
 ],
 "metadata": {
  "kernelspec": {
   "display_name": "Python 3 (ipykernel)",
   "language": "python",
   "name": "python3"
  },
  "language_info": {
   "codemirror_mode": {
    "name": "ipython",
    "version": 3
   },
   "file_extension": ".py",
   "mimetype": "text/x-python",
   "name": "python",
   "nbconvert_exporter": "python",
   "pygments_lexer": "ipython3",
   "version": "3.12.7"
  }
 },
 "nbformat": 4,
 "nbformat_minor": 5
}
